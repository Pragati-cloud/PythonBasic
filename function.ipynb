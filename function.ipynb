{
 "cells": [
  {
   "cell_type": "code",
   "execution_count": 1,
   "id": "4922f108",
   "metadata": {},
   "outputs": [
    {
     "data": {
      "text/plain": [
       "212.0"
      ]
     },
     "execution_count": 1,
     "metadata": {},
     "output_type": "execute_result"
    }
   ],
   "source": [
    "#temp coversion\n",
    "\n",
    "def temp_conv(temp , unit):\n",
    "  if unit =='C':\n",
    "    return (temp * 9/5) + 32\n",
    "  elif unit == 'F':\n",
    "    return (temp - 32) * 5/9\n",
    "  else:\n",
    "    return None\n",
    "\n",
    "temp_conv(100,'C')"
   ]
  },
  {
   "cell_type": "code",
   "execution_count": 5,
   "id": "d11a92f0",
   "metadata": {},
   "outputs": [
    {
     "data": {
      "text/plain": [
       "'Strong'"
      ]
     },
     "execution_count": 5,
     "metadata": {},
     "output_type": "execute_result"
    }
   ],
   "source": [
    "#password strength checker\n",
    "def password_strength(password):\n",
    "  if len(password)<8:\n",
    "    return \"Weak\"\n",
    "  if not any(char.isdigit() for char in password):\n",
    "    return \"Weak\"\n",
    "  if not any(char.islower() for char in password):\n",
    "    return \"Weak\"\n",
    "  if not any(char.isupper() for char in password):\n",
    "    return \"Weak\"\n",
    "  if not any(char in \"!@#$%^&*()-_+=<>?{}[]|:;'\" for char in password):\n",
    "    return \"Weak\"\n",
    "  \n",
    "  return \"Strong\"\n",
    "\n",
    "password_strength(\"Password123!\")\n",
    "  \n",
    "  "
   ]
  },
  {
   "cell_type": "code",
   "execution_count": 9,
   "id": "f8b05f6b",
   "metadata": {},
   "outputs": [
    {
     "data": {
      "text/plain": [
       "883"
      ]
     },
     "execution_count": 9,
     "metadata": {},
     "output_type": "execute_result"
    }
   ],
   "source": [
    "#cal total cost of items in a list\n",
    "def cost(items):\n",
    "  total =0\n",
    "  for item in items:\n",
    "    total = total + item['price'] *item['quantity']\n",
    "  return total\n",
    "\n",
    "items =[\n",
    "  {'name':'banana', 'price':34, 'quantity':12},\n",
    "  {'name':'apple', 'price':23, 'quantity':5},\n",
    "  {'name':'orange', 'price':45,'quantity' :8},\n",
    "]\n",
    "\n",
    "cost(items)\n"
   ]
  },
  {
   "cell_type": "code",
   "execution_count": null,
   "id": "1935e3af",
   "metadata": {},
   "outputs": [
    {
     "data": {
      "text/plain": [
       "True"
      ]
     },
     "execution_count": 15,
     "metadata": {},
     "output_type": "execute_result"
    }
   ],
   "source": [
    "##checkinh palindrome\n",
    "\n",
    "def is_palindrome(string):\n",
    "  string = string.lower().replace(\" \", \"\")\n",
    "  return string == string[::-1]\n",
    "   \n",
    "\n",
    "is_palindrome(\"madam\")"
   ]
  },
  {
   "cell_type": "code",
   "execution_count": 6,
   "id": "0b97283b",
   "metadata": {},
   "outputs": [],
   "source": [
    "#to read file and count the number of words in it\n",
    "\n",
    "def count(file_path):\n",
    "  words= {}\n",
    "  with open(file_path,'r') as file:\n",
    "    for line in file:\n",
    "      word = line.split()\n",
    "      for w  in word:\n",
    "        w=word.lower().strip('.,!?\"\\'')\n",
    "        words[word] = words.get(word,0) + 1\n",
    "  return words\n",
    "\n",
    "  file_path = 'sample.txt'\n",
    "  word_count = count(file_path)\n",
    "  print(f\"Word count: {word_count}\")"
   ]
  },
  {
   "cell_type": "markdown",
   "id": "09c58a0c",
   "metadata": {},
   "source": [
    "Lambda function\n",
    "it is anonymous function which can have any no. of argument but on expression\n"
   ]
  },
  {
   "cell_type": "code",
   "execution_count": 11,
   "id": "26fa3e85",
   "metadata": {},
   "outputs": [
    {
     "data": {
      "text/plain": [
       "99"
      ]
     },
     "execution_count": 11,
     "metadata": {},
     "output_type": "execute_result"
    }
   ],
   "source": [
    "def add3(a,b):\n",
    "  return a+b\n",
    "\n",
    "add3(34,65)\n"
   ]
  },
  {
   "cell_type": "code",
   "execution_count": 12,
   "id": "a0b8ab07",
   "metadata": {},
   "outputs": [
    {
     "name": "stdout",
     "output_type": "stream",
     "text": [
      "132\n"
     ]
    }
   ],
   "source": [
    "\n",
    "add = lambda a,b : a+b\n",
    "print(add(56,76))"
   ]
  },
  {
   "cell_type": "code",
   "execution_count": 14,
   "id": "de016392",
   "metadata": {},
   "outputs": [
    {
     "data": {
      "text/plain": [
       "[1, 4, 9, 16, 25, 36, 49, 64, 81]"
      ]
     },
     "execution_count": 14,
     "metadata": {},
     "output_type": "execute_result"
    }
   ],
   "source": [
    "num =[1,2,3,4,5,6,7,8,9]\n",
    "list(map(lambda x: x**2, num))"
   ]
  },
  {
   "cell_type": "code",
   "execution_count": 16,
   "id": "765840d1",
   "metadata": {},
   "outputs": [
    {
     "data": {
      "text/plain": [
       "['HELLO', 'WORLD', 'PYTHON']"
      ]
     },
     "execution_count": 16,
     "metadata": {},
     "output_type": "execute_result"
    }
   ],
   "source": [
    "str1 =[\"hello\",\"world\",\"python\"]\n",
    "\n",
    "list(map(lambda x:x.upper(),str1))"
   ]
  },
  {
   "cell_type": "code",
   "execution_count": 19,
   "id": "8185e109",
   "metadata": {},
   "outputs": [
    {
     "data": {
      "text/plain": [
       "[1, 2, 3]"
      ]
     },
     "execution_count": 19,
     "metadata": {},
     "output_type": "execute_result"
    }
   ],
   "source": [
    "str1 =[\"1\",\"2\",\"3\"]\n",
    "\n",
    "list(map(int,str1))"
   ]
  },
  {
   "cell_type": "code",
   "execution_count": 20,
   "id": "1c6072ff",
   "metadata": {},
   "outputs": [
    {
     "data": {
      "text/plain": [
       "[25, 30, 35]"
      ]
     },
     "execution_count": 20,
     "metadata": {},
     "output_type": "execute_result"
    }
   ],
   "source": [
    "def people(name):\n",
    "  return name['age']\n",
    "\n",
    "name =[\n",
    "  {'name1':'john','age':25},\n",
    "  {'name2':'jane','age':30},\n",
    "  {'name3':'doe','age':35}\n",
    "]\n",
    "\n",
    "list(map(people,name))"
   ]
  }
 ],
 "metadata": {
  "kernelspec": {
   "display_name": ".venv",
   "language": "python",
   "name": "python3"
  },
  "language_info": {
   "codemirror_mode": {
    "name": "ipython",
    "version": 3
   },
   "file_extension": ".py",
   "mimetype": "text/x-python",
   "name": "python",
   "nbconvert_exporter": "python",
   "pygments_lexer": "ipython3",
   "version": "3.10.11"
  }
 },
 "nbformat": 4,
 "nbformat_minor": 5
}
