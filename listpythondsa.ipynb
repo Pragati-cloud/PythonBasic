{
 "cells": [
  {
   "cell_type": "code",
   "execution_count": 7,
   "id": "6ccd62f2",
   "metadata": {},
   "outputs": [
    {
     "name": "stdout",
     "output_type": "stream",
     "text": [
      "5\n",
      "[1, 2, 3, 4, 5]\n",
      "[5, 6, 7, 8, 9]\n",
      "[9, 8, 7, 6, 5, 4, 3, 2, 1]\n",
      "[1, 4, 7]\n"
     ]
    }
   ],
   "source": [
    "numbers = [1,2,3,4,5,6,7,8,9]\n",
    "print(numbers[-5])\n",
    "print(numbers[:5])\n",
    "print(numbers[4:])\n",
    "print(numbers[::-1])\n",
    "print(numbers[::3])"
   ]
  },
  {
   "cell_type": "code",
   "execution_count": 13,
   "id": "7a68e615",
   "metadata": {},
   "outputs": [
    {
     "name": "stdout",
     "output_type": "stream",
     "text": [
      "0 1\n",
      "1 2\n",
      "2 3\n",
      "3 4\n",
      "4 5\n",
      "5 6\n",
      "6 7\n",
      "7 8\n",
      "8 9\n"
     ]
    }
   ],
   "source": [
    "## Iterating over a list by index\n",
    "\n",
    "for idx,num in enumerate(numbers):\n",
    "  print(idx,num)"
   ]
  },
  {
   "cell_type": "code",
   "execution_count": 16,
   "id": "3758bb59",
   "metadata": {},
   "outputs": [
    {
     "name": "stdout",
     "output_type": "stream",
     "text": [
      "[0, 1, 4, 9, 16, 25, 36, 49, 64, 81]\n"
     ]
    }
   ],
   "source": [
    "lst =[]\n",
    "for i in range(10):\n",
    "  lst.append(i**2)\n",
    "print(lst)"
   ]
  },
  {
   "cell_type": "code",
   "execution_count": 17,
   "id": "7a0a9e30",
   "metadata": {},
   "outputs": [
    {
     "data": {
      "text/plain": [
       "[0, 2, 4, 6, 8, 10, 12, 14, 16, 18, 20, 22, 24, 26, 28, 30, 32, 34, 36, 38]"
      ]
     },
     "execution_count": 17,
     "metadata": {},
     "output_type": "execute_result"
    }
   ],
   "source": [
    "[x*2 for x in range(20)]"
   ]
  },
  {
   "cell_type": "code",
   "execution_count": 4,
   "id": "9ced6aef",
   "metadata": {},
   "outputs": [
    {
     "name": "stdout",
     "output_type": "stream",
     "text": [
      "[[1, 'a'], [1, 'ed'], [1, 'r'], [1, 'j'], [1, 'p'], [2, 'a'], [2, 'ed'], [2, 'r'], [2, 'j'], [2, 'p'], [3, 'a'], [3, 'ed'], [3, 'r'], [3, 'j'], [3, 'p'], [4, 'a'], [4, 'ed'], [4, 'r'], [4, 'j'], [4, 'p'], [5, 'a'], [5, 'ed'], [5, 'r'], [5, 'j'], [5, 'p']]\n"
     ]
    }
   ],
   "source": [
    "#nested list comprehension\n",
    "\n",
    "list1= [1,2,3,4,5]\n",
    "list2= ['a','ed','r','j','p']\n",
    "\n",
    "list3 = [[i,j] for i in list1 for j in list2]\n",
    "print(list3)"
   ]
  }
 ],
 "metadata": {
  "kernelspec": {
   "display_name": ".venv",
   "language": "python",
   "name": "python3"
  },
  "language_info": {
   "codemirror_mode": {
    "name": "ipython",
    "version": 3
   },
   "file_extension": ".py",
   "mimetype": "text/x-python",
   "name": "python",
   "nbconvert_exporter": "python",
   "pygments_lexer": "ipython3",
   "version": "3.10.11"
  }
 },
 "nbformat": 4,
 "nbformat_minor": 5
}
