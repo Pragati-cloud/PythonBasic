{
 "cells": [
  {
   "cell_type": "markdown",
   "id": "bc60f3a8",
   "metadata": {},
   "source": [
    "# Module: Classes and Objects Assignments\n",
    "## Lesson: Creating and Working with Classes and Objects\n",
    "### Assignment 1: Basic Class and Object Creation\n",
    "\n",
    "Create a class named `Car` with attributes `make`, `model`, and `year`. Create an object of the class and print its attributes.\n",
    "\n",
    "### Assignment 2: Methods in Class\n",
    "\n",
    "Add a method named `start_engine` to the `Car` class that prints a message when the engine starts. Create an object of the class and call the method.\n",
    "\n",
    "### Assignment 3: Class with Constructor\n",
    "\n",
    "Create a class named `Student` with attributes `name` and `age`. Use a constructor to initialize these attributes. Create an object of the class and print its attributes.\n",
    "\n",
    "### Assignment 4: Class with Private Attributes\n",
    "\n",
    "Create a class named `BankAccount` with private attributes `account_number` and `balance`. Add methods to deposit and withdraw money, and to check the balance. Create an object of the class and perform some operations.\n",
    "\n",
    "### Assignment 5: Class Inheritance\n",
    "\n",
    "Create a base class named `Person` with attributes `name` and `age`. Create a derived class named `Employee` that inherits from `Person` and adds an attribute `employee_id`. Create an object of the derived class and print its attributes.\n",
    "\n",
    "### Assignment 6: Method Overriding\n",
    "\n",
    "In the `Employee` class, override the `__str__` method to return a string representation of the object. Create an object of the class and print it.\n",
    "\n",
    "### Assignment 7: Class Composition\n",
    "\n",
    "Create a class named `Address` with attributes `street`, `city`, and `zipcode`. Create a class named `Person` that has an `Address` object as an attribute. Create an object of the `Person` class and print its address.\n",
    "\n",
    "### Assignment 8: Class with Class Variables\n",
    "\n",
    "Create a class named `Counter` with a class variable `count`. Each time an object is created, increment the count. Add a method to get the current count. Create multiple objects and print the count.\n",
    "\n",
    "### Assignment 9: Static Methods\n",
    "\n",
    "Create a class named `MathOperations` with a static method to calculate the square root of a number. Call the static method without creating an object.\n",
    "\n",
    "### Assignment 10: Class with Properties\n",
    "\n",
    "Create a class named `Rectangle` with private attributes `length` and `width`. Use properties to get and set these attributes. Create an object of the class and test the properties.\n",
    "\n",
    "### Assignment 11: Abstract Base Class\n",
    "\n",
    "Create an abstract base class named `Shape` with an abstract method `area`. Create derived classes `Circle` and `Square` that implement the `area` method. Create objects of the derived classes and call the `area` method.\n",
    "\n",
    "### Assignment 12: Operator Overloading\n",
    "\n",
    "Create a class named `Vector` with attributes `x` and `y`. Overload the `+` operator to add two `Vector` objects. Create objects of the class and test the operator overloading.\n",
    "\n",
    "### Assignment 13: Class with Custom Exception\n",
    "\n",
    "Create a custom exception named `InsufficientBalanceError`. In the `BankAccount` class, raise this exception when a withdrawal amount is greater than the balance. Handle the exception and print an appropriate message.\n",
    "\n",
    "### Assignment 14: Class with Context Manager\n",
    "\n",
    "Create a class named `FileManager` that implements the context manager protocol to open and close a file. Use this class to read the contents of a file.\n",
    "\n",
    "### Assignment 15: Chaining Methods\n",
    "\n",
    "Create a class named `Calculator` with methods to add, subtract, multiply, and divide. Each method should return the object itself to allow method chaining. Create an object and chain multiple method calls."
   ]
  },
  {
   "cell_type": "code",
   "execution_count": 3,
   "id": "cf6801ef",
   "metadata": {},
   "outputs": [
    {
     "name": "stdout",
     "output_type": "stream",
     "text": [
      "audi\n",
      "a4\n",
      "2020\n"
     ]
    }
   ],
   "source": [
    "# assignment 1\n",
    "\n",
    "class Car:\n",
    "  \n",
    "  def __init__(self, make,model,year):\n",
    "    self.make=make\n",
    "    self.model=model\n",
    "    self.year=year\n",
    "\n",
    "audi= Car(\"audi\",\"a4\",2020)\n",
    "print(audi.make)\n",
    "print(audi.model)\n",
    "print(audi.year)"
   ]
  },
  {
   "cell_type": "code",
   "execution_count": 6,
   "id": "722a8bd8",
   "metadata": {},
   "outputs": [
    {
     "name": "stdout",
     "output_type": "stream",
     "text": [
      "BMW X5 engine started.\n"
     ]
    }
   ],
   "source": [
    "#assignment 2\n",
    "\n",
    "class Car:\n",
    "  \n",
    "  def __init__(self, make,model,year):\n",
    "    self.make=make\n",
    "    self.model=model\n",
    "    self.year=year\n",
    "\n",
    "  def start_engine(self):\n",
    "    print(f'{self.make} {self.model} engine started.')\n",
    "\n",
    "bmw = Car(\"BMW\", \"X5\", 2021)\n",
    "bmw.start_engine()"
   ]
  },
  {
   "cell_type": "code",
   "execution_count": 8,
   "id": "56a1d758",
   "metadata": {},
   "outputs": [
    {
     "name": "stdout",
     "output_type": "stream",
     "text": [
      "Student Name: Pragati, Age: 20\n"
     ]
    }
   ],
   "source": [
    "#assignment 3\n",
    "\n",
    "class Student:\n",
    "  \n",
    "  def __init__(self, name,age):\n",
    "    self.name=name\n",
    "    self.age=age\n",
    "\n",
    "pragati =Student(\"Pragati\", 20)\n",
    "print(f'Student Name: {pragati.name}, Age: {pragati.age}')"
   ]
  },
  {
   "cell_type": "code",
   "execution_count": null,
   "id": "477e45b9",
   "metadata": {},
   "outputs": [],
   "source": [
    "#assignment 4\n",
    "class BankAccount:\n",
    "  def __init__(self,owner,amount=0):\n",
    "    self.owner = owner\n",
    "    self.amount = amount\n",
    "\n",
    "  def deposite(self):\n",
    "    amount = float(input('Enter the amount :'))\n",
    "    self.amount+=amount\n",
    "    print(f'{amount} deposited. New balance is {self.amount}')\n",
    "\n",
    "  def withdraw(self):\n",
    "    amount=float(input('Enter the amount :'))\n",
    "\n",
    "    if amount>self.amount:\n",
    "      print('insufficient balance')\n",
    "\n",
    "    else:\n",
    "      self.amount-=amount\n",
    "      print(f'{amount} withdrawn. New balance is {self.amount}')\n",
    "\n",
    "  def balanceshow(self):\n",
    "    print('Current balance is:', self.amount)\n",
    "\n",
    "\n",
    "# Test the BankAccount class\n",
    "amount = BankAccount('Pragati', 1000)\n"
   ]
  },
  {
   "cell_type": "code",
   "execution_count": 9,
   "id": "6b1596ec",
   "metadata": {},
   "outputs": [
    {
     "name": "stdout",
     "output_type": "stream",
     "text": [
      "Name: John Doe, Age: 30, Employee ID: E12345\n"
     ]
    }
   ],
   "source": [
    "#assigment 5\n",
    "\n",
    "class Person:\n",
    "  def __init__(self, name, age):\n",
    "    self.name = name\n",
    "    self.age = age\n",
    "\n",
    "class Employee(Person):\n",
    "  def __init__(self, name, age, employee_id):\n",
    "    super().__init__(name, age)\n",
    "    self.employee_id = employee_id\n",
    "\n",
    "  def display_info(self):\n",
    "    print(f'Name: {self.name}, Age: {self.age}, Employee ID: {self.employee_id}')\n",
    "\n",
    "\n",
    "employee = Employee(\"John Doe\", 30, \"E12345\")\n",
    "employee.display_info()"
   ]
  },
  {
   "cell_type": "code",
   "execution_count": 10,
   "id": "21c86d88",
   "metadata": {},
   "outputs": [
    {
     "name": "stdout",
     "output_type": "stream",
     "text": [
      "Employee(Name: Alice, Age: 28, ID: E001)\n"
     ]
    }
   ],
   "source": [
    "#assignment 6\n",
    "\n",
    "class Employee(Person):\n",
    "    def __init__(self, name, age, employee_id):\n",
    "        super().__init__(name, age)\n",
    "        self.employee_id = employee_id\n",
    "\n",
    "    def __str__(self):\n",
    "        return f'Employee(Name: {self.name}, Age: {self.age}, ID: {self.employee_id})'\n",
    "\n",
    "employee = Employee(\"Alice\", 28, \"E001\")\n",
    "print(employee)  \n",
    "\n"
   ]
  },
  {
   "cell_type": "code",
   "execution_count": 17,
   "id": "56dd36f3",
   "metadata": {},
   "outputs": [
    {
     "name": "stdout",
     "output_type": "stream",
     "text": [
      "123 Main St 12345\n"
     ]
    }
   ],
   "source": [
    "#assignment 7\n",
    "\n",
    "class Address:\n",
    "  def __init__(self, street, city, zip_code):\n",
    "    self.street = street\n",
    "    self.city = city\n",
    "    self.zip_code = zip_code\n",
    "\n",
    "class Person:\n",
    "  def __init__(self, address):\n",
    "    self.address = address\n",
    "\n",
    "address1 = Address('123 Main St', 'Springfield', '12345')\n",
    "person1 = Person(address)\n",
    "\n",
    "print(person1.address.street, person1.address.zip_code )"
   ]
  },
  {
   "cell_type": "code",
   "execution_count": null,
   "id": "b28bd4af",
   "metadata": {},
   "outputs": [
    {
     "name": "stdout",
     "output_type": "stream",
     "text": [
      "3\n"
     ]
    }
   ],
   "source": [
    "#assignment 8\n",
    "\n",
    "class Counter:\n",
    "  count=0\n",
    "\n",
    "  def __init__(self):\n",
    "    Counter.count += 1\n",
    "  \n",
    "  @classmethod\n",
    "  def get_count(cls):\n",
    "    return cls.count\n",
    "\n",
    "counter1 = Counter()\n",
    "counter2 = Counter()\n",
    "counter3 = Counter()\n",
    "print(Counter.get_count())  \n",
    "\n",
    "\n"
   ]
  },
  {
   "cell_type": "code",
   "execution_count": 23,
   "id": "b8c4f4a3",
   "metadata": {},
   "outputs": [
    {
     "name": "stdout",
     "output_type": "stream",
     "text": [
      "Square root: 7.0\n"
     ]
    }
   ],
   "source": [
    "## assignment 9\n",
    "\n",
    "import math\n",
    "\n",
    "class MathOperations:\n",
    "  @staticmethod\n",
    "\n",
    "  def sqrt():\n",
    "    num = int(input(\"Enter a number to find its square root: \"))\n",
    "    return math.sqrt(num)\n",
    "\n",
    "print(\"Square root:\", MathOperations.sqrt())"
   ]
  },
  {
   "cell_type": "code",
   "execution_count": 25,
   "id": "e5288996",
   "metadata": {},
   "outputs": [
    {
     "name": "stdout",
     "output_type": "stream",
     "text": [
      "Length: 10\n",
      "Width: 5\n",
      "15 7\n"
     ]
    }
   ],
   "source": [
    "#assignment 10\n",
    "\n",
    "class Rectangle:\n",
    "  def __init__(self, length, width):\n",
    "    self.length1 = length\n",
    "    self.width1 = width\n",
    "\n",
    "  @property\n",
    "  def length(self):\n",
    "    return self.length1\n",
    "\n",
    "  @length.setter\n",
    "  def length(self, length):\n",
    "    self.length1 = length\n",
    "\n",
    "  @property\n",
    "  def width(self):\n",
    "    return self.width1\n",
    "\n",
    "  @width.setter\n",
    "  def width(self, width):\n",
    "    self.width1 = width\n",
    "\n",
    "rect = Rectangle(10, 5)\n",
    "print(\"Length:\", rect.length1)\n",
    "print(\"Width:\", rect.width1)\n",
    "rect.length1 = 15\n",
    "rect.width1 = 7\n",
    "print(rect.length1, rect.width1) \n"
   ]
  },
  {
   "cell_type": "code",
   "execution_count": 30,
   "id": "c64a96d0",
   "metadata": {},
   "outputs": [
    {
     "name": "stdout",
     "output_type": "stream",
     "text": [
      "Circle area: 78.53981633974483\n",
      "Square area: 16\n"
     ]
    }
   ],
   "source": [
    "#assignment 11\n",
    "\n",
    "from abc import ABC, abstractmethod\n",
    "\n",
    "class Shape(ABC):\n",
    "    @abstractmethod\n",
    "    def area(self):\n",
    "        pass\n",
    "\n",
    "class Circle(Shape):\n",
    "  def __init__(self, radius):\n",
    "    self.radius = radius\n",
    "\n",
    "  def area(self):\n",
    "    return math.pi* self.radius ** 2\n",
    "\n",
    "class Square(Shape):\n",
    "    def __init__(self, side):\n",
    "        self.side = side\n",
    "\n",
    "    def area(self):\n",
    "        return self.side ** 2\n",
    "\n",
    "circle = Circle(5)\n",
    "square = Square(4)\n",
    "print(\"Circle area:\", circle.area())\n",
    "print(\"Square area:\", square.area())\n",
    "\n",
    "\n",
    "\n"
   ]
  },
  {
   "cell_type": "code",
   "execution_count": 31,
   "id": "9d5d9233",
   "metadata": {},
   "outputs": [
    {
     "name": "stdout",
     "output_type": "stream",
     "text": [
      "Vector(6, 8)\n"
     ]
    }
   ],
   "source": [
    "#assignment 12\n",
    "class Vector:\n",
    "    def __init__(self, x, y):\n",
    "        self.x = x\n",
    "        self.y = y\n",
    "\n",
    "    def __add__(self, other):\n",
    "        return Vector(self.x + other.x, self.y + other.y)\n",
    "\n",
    "    def __str__(self):\n",
    "        return f\"Vector({self.x}, {self.y})\"\n",
    "\n",
    "\n",
    "v1 = Vector(2, 3)\n",
    "v2 = Vector(4, 5)\n",
    "v3 = v1 + v2\n",
    "print(v3)  \n"
   ]
  },
  {
   "cell_type": "code",
   "execution_count": 29,
   "id": "ef30b988",
   "metadata": {},
   "outputs": [
    {
     "name": "stdout",
     "output_type": "stream",
     "text": [
      "Error: Insufficient balance!\n"
     ]
    }
   ],
   "source": [
    "#assingment 13\n",
    "\n",
    "class InsufficientBalanceError(Exception):\n",
    "    pass\n",
    "\n",
    "class BankAccount:\n",
    "    def __init__(self, account_number, balance=0):\n",
    "        self.__account_number = account_number\n",
    "        self.__balance = balance\n",
    "\n",
    "    def deposit(self, amount):\n",
    "        self.__balance += amount\n",
    "\n",
    "    def withdraw(self, amount):\n",
    "        if amount > self.__balance:\n",
    "            raise InsufficientBalanceError(\"Insufficient balance!\")\n",
    "        else:\n",
    "            self.__balance -= amount\n",
    "\n",
    "    def check_balance(self):\n",
    "        return self.__balance\n",
    "\n",
    "account = BankAccount('12345678', 1000)\n",
    "account.deposit(500)\n",
    "try:\n",
    "    account.withdraw(2000)\n",
    "except InsufficientBalanceError as e:\n",
    "    print(f\"Error: {e}\")"
   ]
  },
  {
   "cell_type": "code",
   "execution_count": 26,
   "id": "8f6061bd",
   "metadata": {},
   "outputs": [
    {
     "name": "stdout",
     "output_type": "stream",
     "text": [
      "4.666666666666667\n"
     ]
    }
   ],
   "source": [
    "#assignment 15\n",
    "\n",
    "class Calculator:\n",
    "    def __init__(self, value=0):\n",
    "        self.value = value\n",
    "\n",
    "    def add(self, amount):\n",
    "        self.value += amount\n",
    "        return self\n",
    "\n",
    "    def subtract(self, amount):\n",
    "        self.value -= amount\n",
    "        return self\n",
    "\n",
    "    def multiply(self, amount):\n",
    "        self.value *= amount\n",
    "        return self\n",
    "\n",
    "    def divide(self, amount):\n",
    "        if amount != 0:\n",
    "            self.value /= amount\n",
    "        else:\n",
    "            print(\"Cannot divide by zero!\")\n",
    "        return self\n",
    "\n",
    "calc = Calculator() \n",
    "calc.add(10)\n",
    "calc.subtract(3).multiply(2)\n",
    "calc.divide(3)\n",
    "print(calc.value) "
   ]
  }
 ],
 "metadata": {
  "kernelspec": {
   "display_name": ".venv",
   "language": "python",
   "name": "python3"
  },
  "language_info": {
   "codemirror_mode": {
    "name": "ipython",
    "version": 3
   },
   "file_extension": ".py",
   "mimetype": "text/x-python",
   "name": "python",
   "nbconvert_exporter": "python",
   "pygments_lexer": "ipython3",
   "version": "3.10.11"
  }
 },
 "nbformat": 4,
 "nbformat_minor": 5
}
