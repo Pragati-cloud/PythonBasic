{
 "cells": [
  {
   "cell_type": "markdown",
   "id": "69848cbe",
   "metadata": {},
   "source": [
    "Conditional Statements\n"
   ]
  },
  {
   "cell_type": "code",
   "execution_count": 4,
   "id": "b338dfb0",
   "metadata": {},
   "outputs": [
    {
     "name": "stdout",
     "output_type": "stream",
     "text": [
      "23 not minor\n"
     ]
    }
   ],
   "source": [
    "age = int(input('Enter age'))\n",
    "\n",
    "if age<=18:\n",
    "  print( age ,'you are minor')\n",
    "\n",
    "else:\n",
    "  print(age ,'not minor')"
   ]
  },
  {
   "cell_type": "code",
   "execution_count": 7,
   "id": "25a4c57d",
   "metadata": {},
   "outputs": [
    {
     "name": "stdout",
     "output_type": "stream",
     "text": [
      "2026 is not a leap year\n"
     ]
    }
   ],
   "source": [
    "year =int(input('enter year'))\n",
    "\n",
    "if year%4==0:\n",
    "  if year %100 ==0:\n",
    "    if year %400 ==0:\n",
    "      print(year , 'is a leap year')\n",
    "    else:\n",
    "      print(year , 'is not a leap year')\n",
    "  else:\n",
    "      print(year ,'is a leap year')\n",
    "else:\n",
    "  print(year , 'is not a leap year')\n"
   ]
  },
  {
   "cell_type": "code",
   "execution_count": 9,
   "id": "be2290e2",
   "metadata": {},
   "outputs": [
    {
     "name": "stdout",
     "output_type": "stream",
     "text": [
      "Result is: 79.71000000000001\n",
      "num1 = 34.06 num2 = 45.65\n"
     ]
    }
   ],
   "source": [
    "#calculator\n",
    "\n",
    "num1= float(input('enter first number'))\n",
    "num2= float(input('enter second number'))\n",
    "\n",
    "operation = input('Ente roperation (+, - ,*,/) : ')\n",
    "\n",
    "if operation =='+':\n",
    "  result = num1+num2\n",
    "elif operation =='-':\n",
    "  result = num1-num2\n",
    "elif operation =='*':\n",
    "  result = num1*num2\n",
    "elif operation=='/':\n",
    "  result = num1 /num2\n",
    "else:\n",
    "  print('Invalid operator')\n",
    "\n",
    "print('Result is:', result)\n",
    "print(\"num1 =\", num1 , \"num2 =\", num2)\n"
   ]
  },
  {
   "cell_type": "code",
   "execution_count": 12,
   "id": "1846aff6",
   "metadata": {},
   "outputs": [
    {
     "name": "stdout",
     "output_type": "stream",
     "text": [
      "23 is the age and ticket price is $12\n"
     ]
    }
   ],
   "source": [
    "#determine ticket price based on age and student satus\n",
    "\n",
    "age =int(input('enter age : '))\n",
    "\n",
    "if(age >=18):\n",
    "   student_status =input(\"Are u a student? (yes/no): \").lower()\n",
    "\n",
    "#determine ticket\n",
    "if age <5:\n",
    "  price =\"Free\"\n",
    "\n",
    "elif age<=12 :\n",
    "  price=\"$10\"\n",
    "\n",
    "elif age<=18:\n",
    "  price ='$12'\n",
    "\n",
    "elif age>18:\n",
    "  if student_status =='yes':\n",
    "    price =\"$12\"\n",
    "  else:\n",
    "    price ='$15'\n",
    "\n",
    "elif age>21:\n",
    "  if student_status =='yes':\n",
    "    price ='$15'\n",
    "  else:\n",
    "    price ='$20'\n",
    "else:\n",
    "  price ='$20'\n",
    "\n",
    "print(age, \"is the age and ticket price is\", price)"
   ]
  },
  {
   "cell_type": "markdown",
   "id": "1e918e5e",
   "metadata": {},
   "source": [
    "Loops\n"
   ]
  },
  {
   "cell_type": "code",
   "execution_count": 16,
   "id": "c7907be3",
   "metadata": {},
   "outputs": [
    {
     "data": {
      "text/plain": [
       "range(0, 2)"
      ]
     },
     "execution_count": 16,
     "metadata": {},
     "output_type": "execute_result"
    }
   ],
   "source": [
    "range(2)"
   ]
  },
  {
   "cell_type": "code",
   "execution_count": 17,
   "id": "2d7eaa7d",
   "metadata": {},
   "outputs": [
    {
     "name": "stdout",
     "output_type": "stream",
     "text": [
      "2 4 6 8 10 "
     ]
    }
   ],
   "source": [
    "for i in range(2,11,2):\n",
    "  print(i,end=' ')"
   ]
  },
  {
   "cell_type": "code",
   "execution_count": 19,
   "id": "d3b1be5b",
   "metadata": {},
   "outputs": [
    {
     "name": "stdout",
     "output_type": "stream",
     "text": [
      "0\n",
      "3\n",
      "6\n",
      "9\n"
     ]
    }
   ],
   "source": [
    "count =0\n",
    " \n",
    "while count<10:\n",
    "  print(count)\n",
    "  count+=3"
   ]
  },
  {
   "cell_type": "code",
   "execution_count": null,
   "id": "551209b0",
   "metadata": {},
   "outputs": [
    {
     "name": "stdout",
     "output_type": "stream",
     "text": [
      "0 1 2 3 4 5 6 7 8 9 "
     ]
    }
   ],
   "source": [
    "for i in range(0,20):\n",
    "  if i==10: \n",
    "    break                #break the loop when i is 10\n",
    "  print(i, end=' ')"
   ]
  },
  {
   "cell_type": "code",
   "execution_count": null,
   "id": "438f5cb4",
   "metadata": {},
   "outputs": [
    {
     "name": "stdout",
     "output_type": "stream",
     "text": [
      "1 3 5 7 9 11 13 15 17 19 "
     ]
    }
   ],
   "source": [
    "for i in range(20):\n",
    "  if i%2==0:\n",
    "    continue          #skip current iteration and print next\n",
    "  print(i, end=' ')\n"
   ]
  },
  {
   "cell_type": "code",
   "execution_count": null,
   "id": "dc20df27",
   "metadata": {},
   "outputs": [
    {
     "name": "stdout",
     "output_type": "stream",
     "text": [
      "0 1 2 3 4 5 6 7 8 9 10 11 12 13 14 15 16 17 18 19 "
     ]
    }
   ],
   "source": [
    "for i in range(20):\n",
    "  if i%2==0:\n",
    "    pass           #it does nothing\n",
    "  print(i, end=' ')\n"
   ]
  },
  {
   "cell_type": "code",
   "execution_count": 31,
   "id": "0d7d2577",
   "metadata": {},
   "outputs": [
    {
     "name": "stdout",
     "output_type": "stream",
     "text": [
      "Sum of first n natural numbers is: 55\n"
     ]
    }
   ],
   "source": [
    "#calculate the usm of first n natural numbers using while loop\n",
    "\n",
    "n = int(input('Enter a number: '))\n",
    "sum =0\n",
    "\n",
    "while n>0:\n",
    "  sum +=n\n",
    "  n-=1\n",
    "\n",
    "print('Sum of first n natural numbers is:', sum)\n",
    "\n",
    "\n"
   ]
  },
  {
   "cell_type": "code",
   "execution_count": 33,
   "id": "20f1205e",
   "metadata": {},
   "outputs": [
    {
     "name": "stdout",
     "output_type": "stream",
     "text": [
      "2 3 5 7 11 13 17 19 23 29 31 37 41 43 47 53 59 61 67 71 73 79 83 89 97 "
     ]
    }
   ],
   "source": [
    "#prime numbers\n",
    "for i in range(1,100):\n",
    "  if i>1:\n",
    "    for j in range(2,i):\n",
    "      if i%j ==0:\n",
    "        break\n",
    "    else:\n",
    "      print(i, end=' ')\n"
   ]
  },
  {
   "cell_type": "code",
   "execution_count": null,
   "id": "73c388cd",
   "metadata": {},
   "outputs": [],
   "source": []
  }
 ],
 "metadata": {
  "kernelspec": {
   "display_name": ".venv",
   "language": "python",
   "name": "python3"
  },
  "language_info": {
   "codemirror_mode": {
    "name": "ipython",
    "version": 3
   },
   "file_extension": ".py",
   "mimetype": "text/x-python",
   "name": "python",
   "nbconvert_exporter": "python",
   "pygments_lexer": "ipython3",
   "version": "3.10.11"
  }
 },
 "nbformat": 4,
 "nbformat_minor": 5
}
