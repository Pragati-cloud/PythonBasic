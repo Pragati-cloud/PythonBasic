{
 "cells": [
  {
   "cell_type": "code",
   "execution_count": null,
   "id": "2dac09a5",
   "metadata": {},
   "outputs": [
    {
     "name": "stdout",
     "output_type": "stream",
     "text": [
      "heloo shubha\n",
      "how are you??\n",
      "\n"
     ]
    }
   ],
   "source": [
    "##read file \n",
    "\n",
    "with open('source.txt', 'r') as file:\n",
    "  content = file.read()\n",
    "  print(content)\n",
    "  "
   ]
  },
  {
   "cell_type": "code",
   "execution_count": 4,
   "id": "44f75534",
   "metadata": {},
   "outputs": [],
   "source": [
    "#write a file\n",
    "with open('source.txt', 'w') as file:\n",
    "  file.write(\"Overwrite this file\")\n",
    "  "
   ]
  },
  {
   "cell_type": "code",
   "execution_count": 5,
   "id": "20cb3026",
   "metadata": {},
   "outputs": [],
   "source": [
    "## write on file without overwriting\n",
    "with open('source.txt', 'a') as file:\n",
    "  file.write(\"\\nThis is appended text.\")"
   ]
  },
  {
   "cell_type": "code",
   "execution_count": 7,
   "id": "a1e1477f",
   "metadata": {},
   "outputs": [],
   "source": [
    "lines=[\"heloo shubha\\n\",'how are you??\\n',\"this is a new line\\n\"]\n",
    "with open('source.txt' , 'a') as file:\n",
    "  file.writelines(lines)"
   ]
  },
  {
   "cell_type": "code",
   "execution_count": 13,
   "id": "fe0f9d4d",
   "metadata": {},
   "outputs": [
    {
     "name": "stdout",
     "output_type": "stream",
     "text": [
      "new file\n"
     ]
    }
   ],
   "source": [
    "##w+ mode it will create a file if it does not exist and overwrite the file if it exists, it is used to read and write\n",
    "\n",
    "with open('example.txt','w+') as file:\n",
    "  file.write('new file')\n",
    "\n",
    "#move cursor to beginning\n",
    "  file.seek(0)\n",
    "  content = file.read()\n",
    "  print(content)\n"
   ]
  },
  {
   "cell_type": "code",
   "execution_count": 14,
   "id": "583f3183",
   "metadata": {},
   "outputs": [
    {
     "name": "stdout",
     "output_type": "stream",
     "text": [
      "Current working directory: c:\\Users\\yugen\\OneDrive\\Desktop\\python by krish naik\\standardlib\\test_dir\n"
     ]
    }
   ],
   "source": [
    "#get the current working directory\n",
    "import os\n",
    "cwd = os.getcwd()\n",
    "print(\"Current working directory:\", cwd)"
   ]
  },
  {
   "cell_type": "code",
   "execution_count": 16,
   "id": "0ea389f2",
   "metadata": {},
   "outputs": [
    {
     "name": "stdout",
     "output_type": "stream",
     "text": [
      "new directory new_directory\n"
     ]
    }
   ],
   "source": [
    "##create new directory\n",
    "new_dir = 'new_directory'\n",
    "os.mkdir(new_dir)\n",
    "print(f'new directory {new_dir}')"
   ]
  },
  {
   "cell_type": "code",
   "execution_count": null,
   "id": "be770381",
   "metadata": {},
   "outputs": [
    {
     "name": "stdout",
     "output_type": "stream",
     "text": [
      "example.txt exists\n"
     ]
    }
   ],
   "source": [
    "# os.path.join(cwd, new_dir, new_dir2)\n",
    "# os.listdir('.') to get all\n",
    "\n",
    "path = 'example.txt'\n",
    "\n",
    "if os.path.exists(path):\n",
    "  print(f\"{path} exists\")\n"
   ]
  },
  {
   "cell_type": "code",
   "execution_count": 24,
   "id": "4d32b5d7",
   "metadata": {},
   "outputs": [
    {
     "name": "stdout",
     "output_type": "stream",
     "text": [
      "{path} is not a file nor directory\n"
     ]
    }
   ],
   "source": [
    "path = 'hello.txt'\n",
    "\n",
    "if os.path.isfile(path):\n",
    "  print(f\"{path} is a file\")\n",
    "\n",
    "elif os.path.isdir(path):\n",
    "  print(f\"{path} is a directory\")\n",
    "else:\n",
    "  print('{path} is not a file nor directory')"
   ]
  },
  {
   "cell_type": "code",
   "execution_count": null,
   "id": "7a708026",
   "metadata": {},
   "outputs": [],
   "source": []
  }
 ],
 "metadata": {
  "kernelspec": {
   "display_name": ".venv",
   "language": "python",
   "name": "python3"
  },
  "language_info": {
   "codemirror_mode": {
    "name": "ipython",
    "version": 3
   },
   "file_extension": ".py",
   "mimetype": "text/x-python",
   "name": "python",
   "nbconvert_exporter": "python",
   "pygments_lexer": "ipython3",
   "version": "3.10.11"
  }
 },
 "nbformat": 4,
 "nbformat_minor": 5
}
