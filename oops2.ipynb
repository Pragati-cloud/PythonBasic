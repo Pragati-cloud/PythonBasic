{
 "cells": [
  {
   "cell_type": "code",
   "execution_count": 2,
   "id": "a2887c05",
   "metadata": {},
   "outputs": [
    {
     "name": "stdout",
     "output_type": "stream",
     "text": [
      "Name: John, Age: 30\n"
     ]
    }
   ],
   "source": [
    "#inheritance\n",
    "\n",
    "class View:\n",
    "  def __init__(self, name):\n",
    "      self.name = name\n",
    "\n",
    "class Speak:\n",
    "  def __init__(self, age):\n",
    "      self.age= age\n",
    "\n",
    "class Person(View, Speak):\n",
    "  def __init__(self, name, age):\n",
    "    View.__init__(self,name)\n",
    "    Speak.__init__(self,age)\n",
    "\n",
    "  def display(self):\n",
    "    print(f'Name: {self.name}, Age: {self.age}')\n",
    "\n",
    "\n",
    "#object \n",
    "Person = Person(\"John\", 30)\n",
    "Person.display()"
   ]
  },
  {
   "cell_type": "code",
   "execution_count": 7,
   "id": "1a1b4da4",
   "metadata": {},
   "outputs": [
    {
     "name": "stdout",
     "output_type": "stream",
     "text": [
      "Good Evening\n"
     ]
    }
   ],
   "source": [
    "#polymorphism - It is the ability of different classes to be treated as instances of the same class through a common interface. It allows methods to do different things based on the object it is acting upon.\n",
    "\n",
    "class Morning:\n",
    "  def greet(self):\n",
    "    print(\"Good Morning\")\n",
    "\n",
    "class Evening:\n",
    "  def greet(self):\n",
    "    print(\"Good Evening\")\n",
    "\n",
    "class Night:\n",
    "  def greet(self):\n",
    "    print(\"Good Night\")\n",
    "\n",
    "\n",
    "def greet_time(obj):\n",
    "    obj.greet()\n",
    "\n",
    "time = Evening()\n",
    "greet_time(time)\n",
    "\n"
   ]
  },
  {
   "cell_type": "code",
   "execution_count": 10,
   "id": "b95835af",
   "metadata": {},
   "outputs": [
    {
     "name": "stdout",
     "output_type": "stream",
     "text": [
      "6\n"
     ]
    }
   ],
   "source": [
    "## polymorphism with function overloading\n",
    "class MathOperations:\n",
    "    def add(self, a, b):\n",
    "        return a + b\n",
    "\n",
    "    def add(self, a, b, c):\n",
    "        return a + b + c\n",
    "\n",
    "# Function overloading is not supported in Python, so the last defined method will override the previous ones.\n",
    "math_op = MathOperations()\n",
    "result = math_op.add(1, 2,3)  # This will call the last defined add method\n",
    "print(result)  "
   ]
  },
  {
   "cell_type": "code",
   "execution_count": 15,
   "id": "d2f9c66f",
   "metadata": {},
   "outputs": [
    {
     "name": "stdout",
     "output_type": "stream",
     "text": [
      "Woof\n",
      "Meow\n"
     ]
    }
   ],
   "source": [
    "#using abstract method\n",
    "from abc import ABC, abstractmethod\n",
    "\n",
    "class Animal(ABC):\n",
    "    @abstractmethod\n",
    "    def sound(self):\n",
    "        pass\n",
    "\n",
    "class Dog(Animal):\n",
    "  def sound(self):\n",
    "    return \"Woof\"\n",
    "\n",
    "class Cat(Animal):\n",
    "  def sound(self):\n",
    "    return 'Meow'\n",
    "\n",
    "def animal_sound(animal):\n",
    "  return animal.sound()\n",
    "\n",
    "dog = Dog()\n",
    "cat = Cat()\n",
    "print(animal_sound(dog)) \n",
    "print(animal_sound(cat)) "
   ]
  },
  {
   "cell_type": "code",
   "execution_count": 19,
   "id": "11fb14a8",
   "metadata": {},
   "outputs": [
    {
     "ename": "AttributeError",
     "evalue": "'Person' object has no attribute '__name'",
     "output_type": "error",
     "traceback": [
      "\u001b[1;31m---------------------------------------------------------------------------\u001b[0m",
      "\u001b[1;31mAttributeError\u001b[0m                            Traceback (most recent call last)",
      "Cell \u001b[1;32mIn[19], line 13\u001b[0m\n\u001b[0;32m     10\u001b[0m     \u001b[38;5;28;01mreturn\u001b[39;00m person\u001b[38;5;241m.\u001b[39m__name  \u001b[38;5;66;03m# This will raise an AttributeError because __name is private\u001b[39;00m\n\u001b[0;32m     12\u001b[0m person1 \u001b[38;5;241m=\u001b[39m Person(\u001b[38;5;124m\"\u001b[39m\u001b[38;5;124mPragati\u001b[39m\u001b[38;5;124m\"\u001b[39m, \u001b[38;5;241m20\u001b[39m, \u001b[38;5;124m'\u001b[39m\u001b[38;5;124mFemale\u001b[39m\u001b[38;5;124m'\u001b[39m)\n\u001b[1;32m---> 13\u001b[0m \u001b[43mget_name\u001b[49m\u001b[43m(\u001b[49m\u001b[43mperson1\u001b[49m\u001b[43m)\u001b[49m  \u001b[38;5;66;03m# This will raise an AttributeError because __name is private\u001b[39;00m\n",
      "Cell \u001b[1;32mIn[19], line 10\u001b[0m, in \u001b[0;36mget_name\u001b[1;34m(person)\u001b[0m\n\u001b[0;32m      9\u001b[0m \u001b[38;5;28;01mdef\u001b[39;00m\u001b[38;5;250m \u001b[39m\u001b[38;5;21mget_name\u001b[39m(person):\n\u001b[1;32m---> 10\u001b[0m     \u001b[38;5;28;01mreturn\u001b[39;00m \u001b[43mperson\u001b[49m\u001b[38;5;241;43m.\u001b[39;49m\u001b[43m__name\u001b[49m\n",
      "\u001b[1;31mAttributeError\u001b[0m: 'Person' object has no attribute '__name'"
     ]
    }
   ],
   "source": [
    "## Encapsulation\n",
    "\n",
    "class Person:\n",
    "  def __init__(self, name , age,gender):\n",
    "    self.__name = name  # private attribute\n",
    "    self.__age=age      # private attribute\n",
    "    self.gender = gender\n",
    "\n",
    "def get_name(person):\n",
    "    return person.__name  # This will raise an AttributeError because __name is private\n",
    "\n",
    "person1 = Person(\"Pragati\", 20, 'Female')\n",
    "get_name(person1)  # This will raise an AttributeError because __name is private"
   ]
  },
  {
   "cell_type": "code",
   "execution_count": 20,
   "id": "c9521f78",
   "metadata": {},
   "outputs": [
    {
     "data": {
      "text/plain": [
       "['_Person__age',\n",
       " '_Person__name',\n",
       " '__class__',\n",
       " '__delattr__',\n",
       " '__dict__',\n",
       " '__dir__',\n",
       " '__doc__',\n",
       " '__eq__',\n",
       " '__format__',\n",
       " '__ge__',\n",
       " '__getattribute__',\n",
       " '__gt__',\n",
       " '__hash__',\n",
       " '__init__',\n",
       " '__init_subclass__',\n",
       " '__le__',\n",
       " '__lt__',\n",
       " '__module__',\n",
       " '__ne__',\n",
       " '__new__',\n",
       " '__reduce__',\n",
       " '__reduce_ex__',\n",
       " '__repr__',\n",
       " '__setattr__',\n",
       " '__sizeof__',\n",
       " '__str__',\n",
       " '__subclasshook__',\n",
       " '__weakref__',\n",
       " 'gender']"
      ]
     },
     "execution_count": 20,
     "metadata": {},
     "output_type": "execute_result"
    }
   ],
   "source": [
    "dir(person1)  # This will show the attributes of the person1 object, but __name and __age will not be visible due to encapsulation"
   ]
  },
  {
   "cell_type": "code",
   "execution_count": 27,
   "id": "6b61287f",
   "metadata": {},
   "outputs": [
    {
     "name": "stdout",
     "output_type": "stream",
     "text": [
      "Pragati\n"
     ]
    }
   ],
   "source": [
    "\n",
    "class Person:\n",
    "  def __init__(self,name,age,gender):\n",
    "    self._name = name  # protected attribute (cannot be accessed directly outside the class like private, but can be accessed in subclasses or derived classes)\n",
    "    self._age=age      # protected attribute\n",
    "    self.gender = gender\n",
    "\n",
    "class Student(Person):\n",
    "  def __init__(self ,name,age,gender):\n",
    "    super().__init__(name,age,gender)\n",
    "\n",
    "\n",
    "person = Student(\"Pragati\", 20,\"Female\")\n",
    "print(person._name) "
   ]
  },
  {
   "cell_type": "code",
   "execution_count": 33,
   "id": "5c3b52f8",
   "metadata": {},
   "outputs": [
    {
     "name": "stdout",
     "output_type": "stream",
     "text": [
      "Shubha\n",
      "18\n",
      "20\n",
      "Age must be positive\n"
     ]
    }
   ],
   "source": [
    "#encapsulation with getter and setter methods\n",
    "\n",
    "class Person:\n",
    "    def __init__(self, name, age):\n",
    "        self.__name = name  # private attribute\n",
    "        self.__age = age    # private attribute\n",
    "\n",
    "    def get_name(self):\n",
    "        return self.__name\n",
    "\n",
    "    def set_name(self, name):\n",
    "        self.__name = name\n",
    "\n",
    "    def get_age(self):\n",
    "        return self.__age\n",
    "\n",
    "    def set_age(self, age):\n",
    "        if age > 0:\n",
    "            self.__age = age\n",
    "        else:\n",
    "            print(\"Age must be positive\")\n",
    "\n",
    "person = Person(\"Shubha\",18)\n",
    "print(person.get_name())  # Accessing private attribute using getter\n",
    "print(person.get_age())\n",
    "person.set_age(20)  # Setting new age using setter\n",
    "print(person.get_age() ) # Accessing private attribute using getter\n",
    "person.set_age(-5)  # Trying to set a negative age, which will print an error message"
   ]
  }
 ],
 "metadata": {
  "kernelspec": {
   "display_name": ".venv",
   "language": "python",
   "name": "python3"
  },
  "language_info": {
   "codemirror_mode": {
    "name": "ipython",
    "version": 3
   },
   "file_extension": ".py",
   "mimetype": "text/x-python",
   "name": "python",
   "nbconvert_exporter": "python",
   "pygments_lexer": "ipython3",
   "version": "3.10.11"
  }
 },
 "nbformat": 4,
 "nbformat_minor": 5
}
