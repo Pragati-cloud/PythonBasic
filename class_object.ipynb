{
 "cells": [
  {
   "cell_type": "code",
   "execution_count": null,
   "id": "17d7db94",
   "metadata": {},
   "outputs": [
    {
     "name": "stdout",
     "output_type": "stream",
     "text": [
      "tommy\n",
      "5\n"
     ]
    }
   ],
   "source": [
    "#object oriented programming (OOP) is a programming paradigm that uses \"objects\" to design software. An object is an instance of a class, which can contain data and methods to manipulate that data. OOP allows for code reusability, modularity, and abstraction.\n",
    "## class is blue print for creating objects\n",
    "\n",
    "class Dog:\n",
    "  #creating constructor\n",
    "  def __init__(self,name,age):  #self is used to access instace variables\n",
    "    self.name =name\n",
    "    self.age=age\n",
    "\n",
    "#creating objects\n",
    "dog1=Dog('tommy',2)\n",
    "dog2=Dog('puppy', 5)\n",
    "\n",
    "print(dog1.name)\n",
    "print(dog2.age)"
   ]
  },
  {
   "cell_type": "code",
   "execution_count": 4,
   "id": "1adbab16",
   "metadata": {},
   "outputs": [
    {
     "data": {
      "text/plain": [
       "['__class__',\n",
       " '__delattr__',\n",
       " '__dict__',\n",
       " '__dir__',\n",
       " '__doc__',\n",
       " '__eq__',\n",
       " '__format__',\n",
       " '__ge__',\n",
       " '__getattribute__',\n",
       " '__gt__',\n",
       " '__hash__',\n",
       " '__init__',\n",
       " '__init_subclass__',\n",
       " '__le__',\n",
       " '__lt__',\n",
       " '__module__',\n",
       " '__ne__',\n",
       " '__new__',\n",
       " '__reduce__',\n",
       " '__reduce_ex__',\n",
       " '__repr__',\n",
       " '__setattr__',\n",
       " '__sizeof__',\n",
       " '__str__',\n",
       " '__subclasshook__',\n",
       " '__weakref__',\n",
       " 'age',\n",
       " 'name']"
      ]
     },
     "execution_count": 4,
     "metadata": {},
     "output_type": "execute_result"
    }
   ],
   "source": [
    "dir(dog1)"
   ]
  },
  {
   "cell_type": "code",
   "execution_count": 13,
   "id": "058a1c89",
   "metadata": {},
   "outputs": [],
   "source": [
    "# modeling a bank account\n",
    "\n",
    "class BankAccount:\n",
    "  def __init__(self,owner,amount=0):\n",
    "    self.owner = owner\n",
    "    self.amount = amount\n",
    "\n",
    "  def deposite(self):\n",
    "    amount = float(input('Enter the amount :'))\n",
    "    self.amount+=amount\n",
    "    print(f'{amount} deposited. New balance is {self.amount}')\n",
    "\n",
    "  def withdraw(self):\n",
    "    amount=float(input('Enter the amount :'))\n",
    "\n",
    "    if amount>self.amount:\n",
    "      print('insufficient balance')\n",
    "\n",
    "    else:\n",
    "      self.amount-=amount\n",
    "      print(f'{amount} withdrawn. New balance is {self.amount}')\n",
    "\n",
    "  def balanceshow(self):\n",
    "    print('Current balance is:', self.amount)\n",
    "\n",
    "\n",
    "# Test the BankAccount class\n",
    "amount = BankAccount('Pragati', 1000)\n",
    "\n"
   ]
  },
  {
   "cell_type": "code",
   "execution_count": 15,
   "id": "1446e25b",
   "metadata": {},
   "outputs": [
    {
     "name": "stdout",
     "output_type": "stream",
     "text": [
      "3500.0 deposited. New balance is 4500.0\n"
     ]
    }
   ],
   "source": [
    "amount.deposite()\n"
   ]
  },
  {
   "cell_type": "code",
   "execution_count": 16,
   "id": "2a77f0c2",
   "metadata": {},
   "outputs": [
    {
     "name": "stdout",
     "output_type": "stream",
     "text": [
      "250.0 withdrawn. New balance is 4250.0\n"
     ]
    }
   ],
   "source": [
    "amount.withdraw()"
   ]
  },
  {
   "cell_type": "code",
   "execution_count": 17,
   "id": "7fc9de99",
   "metadata": {},
   "outputs": [
    {
     "name": "stdout",
     "output_type": "stream",
     "text": [
      "Current balance is: 4250.0\n"
     ]
    }
   ],
   "source": [
    "amount.balanceshow()"
   ]
  },
  {
   "cell_type": "code",
   "execution_count": null,
   "id": "191a876e",
   "metadata": {},
   "outputs": [],
   "source": []
  }
 ],
 "metadata": {
  "kernelspec": {
   "display_name": ".venv",
   "language": "python",
   "name": "python3"
  },
  "language_info": {
   "codemirror_mode": {
    "name": "ipython",
    "version": 3
   },
   "file_extension": ".py",
   "mimetype": "text/x-python",
   "name": "python",
   "nbconvert_exporter": "python",
   "pygments_lexer": "ipython3",
   "version": "3.10.11"
  }
 },
 "nbformat": 4,
 "nbformat_minor": 5
}
