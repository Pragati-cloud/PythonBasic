{
 "cells": [
  {
   "cell_type": "code",
   "execution_count": 7,
   "id": "6ccd62f2",
   "metadata": {},
   "outputs": [
    {
     "name": "stdout",
     "output_type": "stream",
     "text": [
      "5\n",
      "[1, 2, 3, 4, 5]\n",
      "[5, 6, 7, 8, 9]\n",
      "[9, 8, 7, 6, 5, 4, 3, 2, 1]\n",
      "[1, 4, 7]\n"
     ]
    }
   ],
   "source": [
    "numbers = [1,2,3,4,5,6,7,8,9]\n",
    "print(numbers[-5])\n",
    "print(numbers[:5])\n",
    "print(numbers[4:])\n",
    "print(numbers[::-1])\n",
    "print(numbers[::3])"
   ]
  },
  {
   "cell_type": "code",
   "execution_count": 13,
   "id": "7a68e615",
   "metadata": {},
   "outputs": [
    {
     "name": "stdout",
     "output_type": "stream",
     "text": [
      "0 1\n",
      "1 2\n",
      "2 3\n",
      "3 4\n",
      "4 5\n",
      "5 6\n",
      "6 7\n",
      "7 8\n",
      "8 9\n"
     ]
    }
   ],
   "source": [
    "## Iterating over a list by index\n",
    "\n",
    "for idx,num in enumerate(numbers):\n",
    "  print(idx,num)"
   ]
  },
  {
   "cell_type": "code",
   "execution_count": 16,
   "id": "3758bb59",
   "metadata": {},
   "outputs": [
    {
     "name": "stdout",
     "output_type": "stream",
     "text": [
      "[0, 1, 4, 9, 16, 25, 36, 49, 64, 81]\n"
     ]
    }
   ],
   "source": [
    "lst =[]\n",
    "for i in range(10):\n",
    "  lst.append(i**2)\n",
    "print(lst)"
   ]
  },
  {
   "cell_type": "code",
   "execution_count": 17,
   "id": "7a0a9e30",
   "metadata": {},
   "outputs": [
    {
     "data": {
      "text/plain": [
       "[0, 2, 4, 6, 8, 10, 12, 14, 16, 18, 20, 22, 24, 26, 28, 30, 32, 34, 36, 38]"
      ]
     },
     "execution_count": 17,
     "metadata": {},
     "output_type": "execute_result"
    }
   ],
   "source": [
    "[x*2 for x in range(20)]"
   ]
  },
  {
   "cell_type": "code",
   "execution_count": 4,
   "id": "9ced6aef",
   "metadata": {},
   "outputs": [
    {
     "name": "stdout",
     "output_type": "stream",
     "text": [
      "[[1, 'a'], [1, 'ed'], [1, 'r'], [1, 'j'], [1, 'p'], [2, 'a'], [2, 'ed'], [2, 'r'], [2, 'j'], [2, 'p'], [3, 'a'], [3, 'ed'], [3, 'r'], [3, 'j'], [3, 'p'], [4, 'a'], [4, 'ed'], [4, 'r'], [4, 'j'], [4, 'p'], [5, 'a'], [5, 'ed'], [5, 'r'], [5, 'j'], [5, 'p']]\n"
     ]
    }
   ],
   "source": [
    "#nested list comprehension\n",
    "\n",
    "list1= [1,2,3,4,5]\n",
    "list2= ['a','ed','r','j','p']\n",
    "\n",
    "list3 = [[i,j] for i in list1 for j in list2]\n",
    "print(list3)"
   ]
  },
  {
   "cell_type": "code",
   "execution_count": 4,
   "id": "9ebc38a4",
   "metadata": {},
   "outputs": [
    {
     "data": {
      "text/plain": [
       "[1, 2, 3, 4, 5, 1, 2, 3, 4, 5, 1, 2, 3, 4, 5]"
      ]
     },
     "execution_count": 4,
     "metadata": {},
     "output_type": "execute_result"
    }
   ],
   "source": [
    "list1= [1,2,3,4,5]\n",
    "list1 *3\n",
    "\n"
   ]
  },
  {
   "cell_type": "markdown",
   "id": "605eb8da",
   "metadata": {},
   "source": [
    "Tuples\n"
   ]
  },
  {
   "cell_type": "code",
   "execution_count": 7,
   "id": "35316f9d",
   "metadata": {},
   "outputs": [
    {
     "name": "stdout",
     "output_type": "stream",
     "text": [
      "(1, 2, 3, 4, 5, 'a', 'ed', 'r', 'j', 'p')\n",
      "<generator object <genexpr> at 0x00000196F613D5B0>\n"
     ]
    }
   ],
   "source": [
    "tuple1 = (1,2,3,4,5)\n",
    "tuple2 = ('a','ed','r','j','p')\n",
    "tuple4 = tuple1+tuple2\n",
    "print(tuple4)\n",
    "tuple3 = ((i,j) for i in tuple1 for j in tuple2)\n",
    "print(tuple3)\n",
    "\n",
    "\n"
   ]
  },
  {
   "cell_type": "code",
   "execution_count": 11,
   "id": "08b84346",
   "metadata": {},
   "outputs": [
    {
     "name": "stdout",
     "output_type": "stream",
     "text": [
      "34 gg 45\n"
     ]
    }
   ],
   "source": [
    "\n",
    "#packing , unpacking\n",
    "tuple1 =34,\"gg\",45,\"rb\"\n",
    "a,b,c ,d= tuple1\n",
    "print(a,b,c)"
   ]
  },
  {
   "cell_type": "code",
   "execution_count": 13,
   "id": "43ef1e00",
   "metadata": {},
   "outputs": [
    {
     "name": "stdout",
     "output_type": "stream",
     "text": [
      "(0, 1, 2, 3, 4, 5, 6, 7, 8, 9, 10)\n"
     ]
    }
   ],
   "source": [
    "tul = tuple(range(11))\n",
    "print(tul)"
   ]
  },
  {
   "cell_type": "code",
   "execution_count": 2,
   "id": "4291be04",
   "metadata": {},
   "outputs": [
    {
     "name": "stdout",
     "output_type": "stream",
     "text": [
      "<class 'set'>\n",
      "<class 'tuple'>\n"
     ]
    }
   ],
   "source": [
    "#create set\n",
    "set1 = {1,2,3,4,5}\n",
    "print(type(set1))\n",
    "tup = tuple(set1)\n",
    "print(type(tup))\n"
   ]
  },
  {
   "cell_type": "code",
   "execution_count": 8,
   "id": "d38273ee",
   "metadata": {},
   "outputs": [
    {
     "name": "stdout",
     "output_type": "stream",
     "text": [
      "{2, 3, 4, 5, 6, 10, 23}\n",
      "{3, 4, 5}\n"
     ]
    }
   ],
   "source": [
    "set2 = set([2,3,4,3,5,6])\n",
    "set1= set([3,4,10,23,5])\n",
    "\n",
    "print(set2.union(set1))\n",
    "print(set2.intersection(set1))"
   ]
  },
  {
   "cell_type": "code",
   "execution_count": null,
   "id": "fb9b55c4",
   "metadata": {},
   "outputs": [],
   "source": [
    "Dictionary"
   ]
  },
  {
   "cell_type": "code",
   "execution_count": 9,
   "id": "6c0cb963",
   "metadata": {},
   "outputs": [
    {
     "name": "stdout",
     "output_type": "stream",
     "text": [
      "John\n"
     ]
    }
   ],
   "source": [
    "dic = {'name':'John','age':25,'city':'New York'}\n",
    "print(dic['name'])"
   ]
  },
  {
   "cell_type": "code",
   "execution_count": 10,
   "id": "174d2f67",
   "metadata": {},
   "outputs": [
    {
     "name": "stdout",
     "output_type": "stream",
     "text": [
      "name John\n",
      "age 25\n",
      "city New York\n"
     ]
    }
   ],
   "source": [
    "for k, v in dic.items():\n",
    "  print(k,v)"
   ]
  },
  {
   "cell_type": "code",
   "execution_count": 11,
   "id": "0353c22b",
   "metadata": {},
   "outputs": [
    {
     "name": "stdout",
     "output_type": "stream",
     "text": [
      "{1: 1, 2: 4, 3: 9, 4: 16, 5: 25, 6: 36, 7: 49, 8: 64, 9: 81, 10: 100}\n"
     ]
    }
   ],
   "source": [
    "d1 = {i: i**2 for i in range(1, 6)}\n",
    "d2 = {i: i**2 for i in range(6, 11)}\n",
    "d1.update(d2)\n",
    "print(d1)"
   ]
  }
 ],
 "metadata": {
  "kernelspec": {
   "display_name": ".venv",
   "language": "python",
   "name": "python3"
  },
  "language_info": {
   "codemirror_mode": {
    "name": "ipython",
    "version": 3
   },
   "file_extension": ".py",
   "mimetype": "text/x-python",
   "name": "python",
   "nbconvert_exporter": "python",
   "pygments_lexer": "ipython3",
   "version": "3.10.11"
  }
 },
 "nbformat": 4,
 "nbformat_minor": 5
}
