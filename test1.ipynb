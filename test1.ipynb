{
 "cells": [
  {
   "cell_type": "code",
   "execution_count": 1,
   "id": "a2a01ba3",
   "metadata": {},
   "outputs": [
    {
     "data": {
      "text/plain": [
       "2"
      ]
     },
     "execution_count": 1,
     "metadata": {},
     "output_type": "execute_result"
    }
   ],
   "source": [
    "1+1\n"
   ]
  },
  {
   "cell_type": "code",
   "execution_count": 19,
   "id": "4adc26c0",
   "metadata": {},
   "outputs": [
    {
     "name": "stdout",
     "output_type": "stream",
     "text": [
      "34 <class 'int'>\n"
     ]
    }
   ],
   "source": [
    "hello='34'\n",
    "print(hello, type(int(hello)))"
   ]
  },
  {
   "cell_type": "code",
   "execution_count": 23,
   "id": "fef68119",
   "metadata": {},
   "outputs": [
    {
     "name": "stdout",
     "output_type": "stream",
     "text": [
      "2334 <class 'float'>\n"
     ]
    },
    {
     "data": {
      "text/plain": [
       "2334.0"
      ]
     },
     "execution_count": 23,
     "metadata": {},
     "output_type": "execute_result"
    }
   ],
   "source": [
    "num =2334\n",
    "print(num, type(float(num)))\n",
    "float(num)"
   ]
  },
  {
   "cell_type": "code",
   "execution_count": 24,
   "id": "5f171176",
   "metadata": {},
   "outputs": [
    {
     "name": "stdout",
     "output_type": "stream",
     "text": [
      "23 <class 'int'>\n"
     ]
    }
   ],
   "source": [
    "num = int(input('Enter num ='))\n",
    "print(num , type(num))"
   ]
  },
  {
   "cell_type": "code",
   "execution_count": 25,
   "id": "88be7991",
   "metadata": {},
   "outputs": [
    {
     "name": "stdout",
     "output_type": "stream",
     "text": [
      "Sum = 35999.75\n",
      "Diff = 34691.75\n",
      "Prod = 23116120.5\n",
      "Div = 54.045489296636084\n"
     ]
    }
   ],
   "source": [
    "num1 = float(input('Enter num1 ='))\n",
    "num2= float(input('Enter num2 ='))\n",
    "\n",
    "sum= num1+num2\n",
    "diff = num1-num2\n",
    "prod = num1*num2\n",
    "div = num1/num2\n",
    "\n",
    "print('Sum =', sum)\n",
    "print('Diff =', diff)\n",
    "print('Prod =', prod)\n",
    "print('Div =', div)"
   ]
  },
  {
   "cell_type": "code",
   "execution_count": 27,
   "id": "4048f44a",
   "metadata": {},
   "outputs": [
    {
     "name": "stdout",
     "output_type": "stream",
     "text": [
      "4093\n"
     ]
    }
   ],
   "source": [
    "ans = 3436 + int(657.867)\n",
    "print(ans)"
   ]
  },
  {
   "cell_type": "code",
   "execution_count": 28,
   "id": "e43455be",
   "metadata": {},
   "outputs": [
    {
     "data": {
      "text/plain": [
       "True"
      ]
     },
     "execution_count": 28,
     "metadata": {},
     "output_type": "execute_result"
    }
   ],
   "source": [
    "n1= 56\n",
    "n3= 56\n",
    "n1==n3"
   ]
  },
  {
   "cell_type": "code",
   "execution_count": 29,
   "id": "3a0c18ab",
   "metadata": {},
   "outputs": [
    {
     "name": "stdout",
     "output_type": "stream",
     "text": [
      "False\n",
      "True\n",
      "False\n"
     ]
    }
   ],
   "source": [
    "x = True\n",
    "y = False\n",
    "print(x and y)\n",
    "print(x or y)\n",
    "print(not x)"
   ]
  }
 ],
 "metadata": {
  "kernelspec": {
   "display_name": ".venv",
   "language": "python",
   "name": "python3"
  },
  "language_info": {
   "codemirror_mode": {
    "name": "ipython",
    "version": 3
   },
   "file_extension": ".py",
   "mimetype": "text/x-python",
   "name": "python",
   "nbconvert_exporter": "python",
   "pygments_lexer": "ipython3",
   "version": "3.10.11"
  }
 },
 "nbformat": 4,
 "nbformat_minor": 5
}
